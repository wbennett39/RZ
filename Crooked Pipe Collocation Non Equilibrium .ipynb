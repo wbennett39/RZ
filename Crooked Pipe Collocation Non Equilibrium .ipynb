{
 "cells": [
  {
   "cell_type": "code",
   "execution_count": 1,
   "metadata": {},
   "outputs": [
    {
     "name": "stdout",
     "output_type": "stream",
     "text": [
      "importing Jupyter notebook from omcp.ipynb\n",
      "importing Jupyter notebook from a_n.ipynb\n",
      "a_n module loaded\n",
      "0.20230236399143287\n",
      "0.30006099606321834\n"
     ]
    }
   ],
   "source": [
    "import numpy as np\n",
    "import matplotlib.pyplot as plt\n",
    "import math\n",
    "from scipy import interpolate\n",
    "from scipy import integrate\n",
    "import time\n",
    "import numpy as np\n",
    "import matplotlib\n",
    "import matplotlib.pyplot as plt\n",
    "import csv\n",
    "from math import sqrt\n",
    "import csv\n",
    "from math import cos,pi\n",
    "import import_ipynb\n",
    "import omcp\n",
    "import a_n\n",
    "import time\n",
    "%run C:\\Users\\wbenn/Marshak_Wave_Scripts/Marshak_RZ/MarshakWave_1D.ipynb"
   ]
  },
  {
   "cell_type": "code",
   "execution_count": 2,
   "metadata": {},
   "outputs": [],
   "source": [
    "# #import omega = 0 benchmark "
   ]
  },
  {
   "cell_type": "markdown",
   "metadata": {},
   "source": [
    "### This notebook solves the Marshak wave problem for a cylinder of radius R on a set of N+1 points between 0 and R. "
   ]
  },
  {
   "cell_type": "markdown",
   "metadata": {},
   "source": [
    "### PDE\n",
    "let $\\kappa = \\kappa_0\\kappa(r,z)$\n",
    "Where $\\kappa(r,z) = 1$ in the optically thin region and $100$ in the optically thick region. \n",
    "Since $\\kappa$ is piecewise constant in r and z, the PDE reduces to,\n",
    "$$  \\frac{\\partial e}{\\partial t}\\bigg{|}_{r=r_m} = K\\left[\\boldsymbol{\\theta}\\cdot\\boldsymbol{\\omega}  + \\left( \\frac{1}{\\kappa_m}\\frac{\\partial^2 \\theta_m}{\\partial z^2}\\right)\\right]$$\n",
    "Where $\\kappa(r,z) = 1$ in the optically thin region and $100$ in the optically thick region. \n",
    "Assuming that I can write,\n",
    "$$ \\frac{1}{\\kappa_m(z)}\\frac{\\partial^2}{\\partial z^2}\\theta_m(z) =\\frac{1}{\\kappa_i}\\left(\\theta_{i+1}-2\\theta_i+\\theta_{i-1}\\right) $$ "
   ]
  },
  {
   "cell_type": "markdown",
   "metadata": {},
   "source": [
    "### Building the omega matrix \n",
    "$$\\omega_{mn} = \\frac{1}{\\kappa_m}\\left(\\left[\\frac{-\\frac{\\partial}{\\partial r} a_n(r)}{\\frac{3\\kappa_0}{2}\\left(\\frac{1-\\alpha}{1+\\alpha}\\right)+\\frac{\\partial}{\\partial r}a_0(r)}\\right]\\bigg{|}_{r=R}\\left[\\frac{1}{r_m}\\frac{\\partial a_0}{\\partial r}+\\frac{\\partial^2a_0}{\\partial r^2}\\right]+\\left[\\frac{1}{r_m}\\frac{\\partial a_n}{\\partial r}+\\frac{\\partial^2a_n}{\\partial r^2}\\right]\\right)\\bigg{|}_{r=r_m}.$$ "
   ]
  },
  {
   "cell_type": "markdown",
   "metadata": {},
   "source": [
    "### Boundary conditions\n",
    "@ z=0, $\\overline{\\theta}_0 = 1$\n",
    "\n",
    "@ z = L, $\\overline{\\theta}_{I+1} = 0$ "
   ]
  },
  {
   "cell_type": "code",
   "execution_count": 3,
   "metadata": {},
   "outputs": [],
   "source": [
    "#constants\n",
    "c=29.998     #cm/ns\n",
    "a=0.01372"
   ]
  },
  {
   "cell_type": "code",
   "execution_count": 4,
   "metadata": {},
   "outputs": [],
   "source": [
    "#set up mesh \n",
    "R = 2.0   # Radius of cylinder  \n",
    "L = 7\n",
    "t_final = 10\n",
    "I = 100 #1400 gives 0.005\n",
    "dz = L/I\n",
    "#parameters\n",
    "rho_thin = 0.01\n",
    "rho_thick = 0.01\n",
    "# rho_thick = rho_thin\n",
    "sigma = 20.0\n",
    "kappa_thin = rho_thin*sigma\n",
    "kappa_thick = rho_thick*sigma\n",
    "cv_thick = rho_thick*0.05\n",
    "cv_thin = rho_thin*0.05\n",
    "T0=5          #driving temperature (kev)\n",
    "Tm0 = 0.05      # material initial temperature\n",
    "n = 0\n",
    "alpha = 0\n",
    "alph_frac = (1-alpha)/(1+alpha)\n",
    "# collocation points\n",
    "N=5 #The omega matrix is NxN, there are N+1 collocation points\n",
    "#Setting up mesh for plotting\n",
    "z = np.linspace(0,L+dz,num = int(I+1))\n",
    "r_grid = np.linspace(0,R,50)\n",
    "r_index = len(r_grid)\n",
    "sol_3D_N = np.zeros((I+1,r_index))  \n",
    "xn = np.zeros(N+1) \n",
    "rn = np.zeros(N+1) \n",
    "for i in range(0,N+1):\n",
    "        xn[i] = cos(2*pi*i/(2*N+1))\n",
    "        rn[i] = sqrt(R**2*(xn[i]+1)/2)\n",
    "\n",
    "# #constants for scaling marshak solution\n",
    "# A = sqrt(1/(2*K)) \n",
    "# zm = sqrt(t_final)/A\n",
    "pars = [rho_thin,rho_thick,sigma,dz]"
   ]
  },
  {
   "cell_type": "code",
   "execution_count": 5,
   "metadata": {},
   "outputs": [
    {
     "name": "stdout",
     "output_type": "stream",
     "text": [
      "0.2\n"
     ]
    }
   ],
   "source": [
    "#Finding the harmonic mean of the difussion coefficient \n",
    "Dt = 1/(3*kappa_thick)\n",
    "Di = 1/(3*kappa_thin)\n",
    "# kavg = 2*kappa_thin*kappa_thick/(kappa_thin+kappa_thick)\n",
    "kavg = (3*(2*Di*Dt/(Di+Dt)))**(-1) \n",
    "cvavg = (2*cv_thin*cv_thick/(cv_thin+cv_thick))\n",
    "def kappa_func(xx1,rr):\n",
    "#     if xx1*dz<=2.5:\n",
    "#         return kappa_thin, cv_thin\n",
    "#     if xx1*dz>= 2.5:\n",
    "#         return kappa_thick, cv_thick\n",
    "    zz = xx1*dz\n",
    "    ########################################\n",
    "    if zz < 2.5 or zz > 4.5:\n",
    "        if rr < 0.5:\n",
    "            return kappa_thin\n",
    "        if rr> 0.5:\n",
    "            return kappa_thick\n",
    "        if rr == 0.5:\n",
    "            return kavg\n",
    "    #########################################\n",
    "    if (zz > 2.5 and zz < 3.0) or (zz > 4.0 and zz < 4.5):\n",
    "        if rr < 1.5:\n",
    "            return kappa_thin\n",
    "        if rr > 1.5:\n",
    "            return kappa_thick\n",
    "        if rr == 1.5:\n",
    "            return kavg\n",
    "    #########################################\n",
    "    if zz > 3.0 and zz < 4.0:\n",
    "#     if zz > 2.5:\n",
    "#         return kappa_thick\n",
    "        if rr < 1.0:\n",
    "            return(kappa_thick)\n",
    "        if (rr > 1.0 and rr < 1.5):\n",
    "            return(kappa_thin)\n",
    "        if rr == 1.0:\n",
    "            return(kavg)\n",
    "        if rr > 1.5:\n",
    "            return kappa_thick\n",
    "    ##########################################\n",
    "    if (zz == 2.5 and rr> 0.5 and rr< 1.5):\n",
    "        return(kavg)\n",
    "    if (zz == 4.5 and rr> 0.5 and rr< 1.5):\n",
    "        return(kavg)\n",
    "    if (zz == 3.0 and rr< 1.0):\n",
    "        return(kavg)\n",
    "def cv_func(xx1,rr):\n",
    "    zz = xx1*dz\n",
    "    ########################################\n",
    "    if zz < 2.5 or zz > 4.5:\n",
    "        if rr < 0.5:\n",
    "            return cv_thin\n",
    "        if rr> 0.5:\n",
    "            return cv_thick\n",
    "        if rr == 0.5:\n",
    "            return cvavg\n",
    "    #########################################\n",
    "    if (zz > 2.5 and zz < 3.0) or (zz > 4.0 and zz < 4.5):\n",
    "        if rr < 1.5:\n",
    "            return cv_thin\n",
    "        if rr > 1.5:\n",
    "            return cv_thick\n",
    "        if rr == 1.5:\n",
    "            return cvavg\n",
    "    #########################################\n",
    "    if zz > 3.0 and zz < 4.0:\n",
    "#     if zz >2.5:\n",
    "#         return cv_thick\n",
    "        if rr < 1.0:\n",
    "            return(cv_thick)\n",
    "        if (rr > 1.0 and rr < 1.5):\n",
    "            return(cv_thin)\n",
    "        if rr == 1.0:\n",
    "            return(cvavg)\n",
    "        if rr > 1.5:\n",
    "            return cv_thick\n",
    "    ##########################################\n",
    "    if (zz == 2.5 and rr> 0.5 and rr< 1.5):\n",
    "        return(cvavg)\n",
    "    if (zz == 2.5 and rr< 0.5):\n",
    "        return cv_thin\n",
    "    if (zz == 2.5 and rr>= 1.5):\n",
    "        return cv_thick\n",
    "    if (zz == 4.5 and rr> 0.5 and rr< 1.5):\n",
    "        return(cvavg)\n",
    "    if (zz == 4.5 and rr< 0.5):\n",
    "        return cv_thin\n",
    "    if (zz == 3.0 and rr< 1.0):\n",
    "        return(cvavg)\n",
    "kappa_edge = 0.01*20\n",
    "print(kappa_edge)"
   ]
  },
  {
   "cell_type": "code",
   "execution_count": 6,
   "metadata": {},
   "outputs": [
    {
     "data": {
      "image/png": "[encoded data removed]",
      "text/plain": [
       "<Figure size 1008x288 with 2 Axes>"
      ]
     },
     "metadata": {
      "needs_background": "light"
     },
     "output_type": "display_data"
    },
    {
     "data": {
      "image/png": "[encoded data removed]",
      "text/plain": [
       "<Figure size 1008x288 with 2 Axes>"
      ]
     },
     "metadata": {
      "needs_background": "light"
     },
     "output_type": "display_data"
    }
   ],
   "source": [
    "def r_func(x1):\n",
    "    if x1< z_index_1 or z_index_4<x1:\n",
    "        return(0,0.5)\n",
    "    if z_index_1<=x1<z_index_2 or z_index_3<x1<=z_index_4:\n",
    "        return(.5,1.5)\n",
    "    if z_index_2<=x1<=z_index_3:\n",
    "        return(1.0,1.5)\n",
    "    \n",
    "kappa_3D = np.zeros((I+1,r_index))\n",
    "cv_3D = np.zeros((I+1,r_index))\n",
    "kappa = 0\n",
    "for j in range(0,r_index):\n",
    "    for i in range(0,I+1):\n",
    "#         r1 = r_func(i)[0]\n",
    "#         r2 = r_func(i)[1]\n",
    "        rrr = r_grid[j]\n",
    "        kappa = kappa_func(i,rrr)\n",
    "#         kappa_3D[i,j] = omcp.kappa_func2(i,j,r1,r2,zlist,r_grid,kappa_thin,kappa_thick,kavg,cv_thin,cv_thick)[0]\n",
    "        kappa_3D[i,j] = kappa\n",
    "        cv_3D[i,j] = cv_func(i,rrr)\n",
    "\n",
    "plt.figure(figsize=(14,4))\n",
    "plt.pcolormesh(z,r_grid,np.transpose(kappa_3D))\n",
    "for i in range(0,len(rn)):\n",
    "    lis = np.ones(len(z))*rn[i]\n",
    "    plt.plot(z,lis,\"--\",c=\"gray\",label=\"r = rn %.0f\"%i)\n",
    "#     plt.legend(loc=\"upper right\")\n",
    "plt.colorbar()\n",
    "plt.title(\"opacity x density\")\n",
    "plt.savefig(\"wall test 2\")\n",
    "plt.show()\n",
    "plt.figure(figsize=(14,4))\n",
    "plt.pcolormesh(z,r_grid,np.transpose(cv_3D))\n",
    "for i in range(0,len(rn)):\n",
    "    lis = np.ones(len(z))*rn[i]\n",
    "    plt.plot(z,lis,\"--\",c=\"gray\",label=\"r = rn %.0f\"%i)\n",
    "#     plt.legend(loc=\"upper right\")\n",
    "plt.colorbar()\n",
    "plt.title(\"Electron specific heat\")\n",
    "plt.show()\n",
    "# omcp.kappa_func2(0,12,0,0.5,zlist,rn)"
   ]
  },
  {
   "cell_type": "code",
   "execution_count": null,
   "metadata": {},
   "outputs": [],
   "source": []
  },
  {
   "cell_type": "code",
   "execution_count": 7,
   "metadata": {},
   "outputs": [
    {
     "name": "stdout",
     "output_type": "stream",
     "text": [
      "[[-25.72249993  24.11179492   0.72298324  -1.32058032   0.47176018]\n",
      " [ 21.79691676 -34.75612042  15.20288302  -2.68081137   0.56129575]\n",
      " [ -2.97808196  14.12578084 -18.02908824   7.86837819  -1.01911632]\n",
      " [  1.23820813  -3.60288309  10.58490531 -12.39227869   4.18952214]\n",
      " [ -1.7356888    4.17719308  -6.41594544  14.3862148  -10.4399142 ]]\n"
     ]
    }
   ],
   "source": [
    "omega_1 = omcp.omega_func(kappa_edge,N,R,alpha,1,xn,rn,pars)\n",
    "print(omega_1)"
   ]
  },
  {
   "cell_type": "code",
   "execution_count": 8,
   "metadata": {},
   "outputs": [
    {
     "name": "stdout",
     "output_type": "stream",
     "text": [
      "N = 5 Size of domain is 7 (cm). There are 100 zones dz =  0.07 . running until t = 10 (ns).\n"
     ]
    }
   ],
   "source": [
    "V_0 = np.zeros((I+1,N,2)) # initial condition vector\n",
    "# for j in range(0,rn_index_1+1):\n",
    "for j in range(0,N):\n",
    "    for i in range(0,int(I+1)):\n",
    "#         if i ==0 and rn[j+1] <= 0.5:\n",
    "# #         if i ==0:\n",
    "#             V_0[i,j,:] = 0.05\n",
    "#         else:\n",
    "            V_0[i,j,1] = 1e-8\n",
    "            V_0[i,j,0] = 1e-8\n",
    "#             if rn[j+1]<=0.5:\n",
    "#             V_0[0,j,1] = 0.3\n",
    "#             V_0[0,j,0] = a*0.3**4\n",
    "V_0 = np.reshape(V_0,(N*(I+1)*2))\n",
    "print(\"N = %.0f\"%N,\"Size of domain is\",L,\"(cm).\",\"There are\", I,\"zones\",\"dz = \",dz,\".\", \"running until t =\", t_final,\"(ns).\")"
   ]
  },
  {
   "cell_type": "code",
   "execution_count": null,
   "metadata": {},
   "outputs": [],
   "source": []
  },
  {
   "cell_type": "code",
   "execution_count": 9,
   "metadata": {},
   "outputs": [],
   "source": [
    "vv = np.zeros(N*(I+1)*2)\n",
    "Tb = a*T0**4\n",
    "idz2 = (1/dz**2)\n",
    "def rhs(t, vv):\n",
    "    v = np.reshape(np.copy(vv),((I+1),N,2))\n",
    "    rhs = np.zeros((I+1,N,2))\n",
    "    for j in range(0,N):\n",
    "        for i in range(0,I+1):\n",
    "#             kappa = omcp.kappa_func(i,j+1,r1,r2,rn,zlist,pars)[0]\n",
    "            kappa = kappa_func(i,rn[j+1])\n",
    "#             cv =    omcp.kappa_func(i,j+1,r1,r2,rn,zlist,pars)[1]\n",
    "            cv = cv_func(i,rn[j+1])\n",
    "            omega = omega_1[j,:]\n",
    "            dotproduct = np.dot(omega,v[i,:,0])\n",
    "            cc2 = (3*kappa*dz)/(2)\n",
    "            ######################################################################\n",
    "            if i < 1:\n",
    "                cavg_p = .5*(3*v[0,j,0]-v[1,j,0])\n",
    "                cdif_bc = (v[1,j,0]-v[0,j,0])+cc2*(Tb-cavg_p)\n",
    "                rhs[i,j,0] = (c/(3*kappa))*(dotproduct + idz2*(cdif_bc)) + c*kappa*(a*v[i,j,1]**4-v[i,j,0])\n",
    "                rhs[i,j,1] = -(c*kappa/cv)*(a*v[i,j,1]**4-v[i,j,0])\n",
    "#           ######################################################################\n",
    "            if i > I-1:\n",
    "                cavg_p = .5*(3*v[I-1,j,0]-v[I,j,0])\n",
    "                cdif_vac = -cc2*(cavg_p) - (v[I,j,0]-v[I-1,j,0])\n",
    "                rhs[i,j,0] = (c/(3*kappa))*(dotproduct + idz2*(cdif_vac)) + c*kappa*(a*v[i,j,1]**4-v[i,j,0])\n",
    "                rhs[i,j,1] = -(c*kappa/cv)*(a*v[i,j,1]**4-v[i,j,0])\n",
    "            ######################################################################\n",
    "            if i > 0 and i < I:\n",
    "                cdif2 = v[i+1,j,0] - 2*v[i,j,0] + v[i-1,j,0]\n",
    "                rhs[i,j,0] = (c/(3*kappa))*(dotproduct + idz2*(cdif2)) + c*kappa*(a*v[i,j,1]**4-v[i,j,0])\n",
    "                rhs[i,j,1] = -(c*kappa/cv)*(a*v[i,j,1]**4-v[i,j,0])\n",
    "            \n",
    "    return np.reshape(rhs,(N*(I+1)*2)) "
   ]
  },
  {
   "cell_type": "markdown",
   "metadata": {},
   "source": [
    "### Solver"
   ]
  },
  {
   "cell_type": "code",
   "execution_count": 10,
   "metadata": {},
   "outputs": [],
   "source": [
    "reltol = 1e-3\n",
    "abstol = 1e-5\n",
    "sol = integrate.solve_ivp(rhs,[0,t_final],V_0,method = \"BDF\",rtol=reltol,atol=abstol)"
   ]
  },
  {
   "cell_type": "markdown",
   "metadata": {},
   "source": [
    "### Reshape solution"
   ]
  },
  {
   "cell_type": "code",
   "execution_count": 11,
   "metadata": {},
   "outputs": [],
   "source": [
    "#RZ \n",
    "z = np.linspace(0,L+dz,num = int(I+1)) \n",
    "t_index = np.size(sol.t)-1\n",
    "t_index2 = np.size(sol.t)-1\n",
    "t_index3 = np.size(sol.t)-1    # last timestep\n",
    "ysolnew = np.reshape(sol.y[:,t_index],(I+1,N,2)) #solution at last timestep \n",
    "\n",
    "K = a*c/(3*kappa_thin*cv_thin)\n",
    "#constants for scaling marshak solution\n",
    "A = sqrt(1/(2*K)) \n",
    "z1 = sqrt(t_final)/A\n",
    "\n",
    "marshak_x=np.ndarray.tolist(sol_marshak.t*z1)\n",
    "marshak_T = np.ndarray.tolist(sol_marshak.y[0])\n"
   ]
  },
  {
   "cell_type": "markdown",
   "metadata": {},
   "source": [
    "### Plot lineouts in z at collocation points "
   ]
  },
  {
   "cell_type": "code",
   "execution_count": 12,
   "metadata": {},
   "outputs": [
    {
     "data": {
      "image/png": "[encoded data removed]",
      "text/plain": [
       "<Figure size 432x288 with 1 Axes>"
      ]
     },
     "metadata": {
      "needs_background": "light"
     },
     "output_type": "display_data"
    },
    {
     "data": {
      "image/png": "[encoded data removed]",
      "text/plain": [
       "<Figure size 432x288 with 1 Axes>"
      ]
     },
     "metadata": {
      "needs_background": "light"
     },
     "output_type": "display_data"
    }
   ],
   "source": [
    "# plt.plot(marshak_x,marshak_T,\"--\", label=\"benchmark\")\n",
    "\n",
    "# plt.legend(loc=\"upper right\")\n",
    "plt.title(\" Radiation temperature N=%.0f t = %.0f (ns) alpha = %.0f\"%(N,t_final,alpha))\n",
    "# RZ solution \n",
    "for i in range(0,N):\n",
    "    plt.plot(z[:], (ysolnew[:,i,0]/a)**0.25,\"-\",label =\"r = %.5f r\"%(rn[i+1]) )\n",
    "    plt.legend(loc=\"upper right\")\n",
    "plt.savefig(\"R2_thick_wall_alpha_%.0f.jpg\"%alpha)\n",
    "plt.legend()\n",
    "plt.show()\n",
    "\n",
    "for i in range(0,N):\n",
    "    plt.plot(z[:], ysolnew[:,i,1],\"-\",label =\"r = %.5f r\"%(rn[i+1]) )\n",
    "#     plt.plot(z[:], ysolnew[:,i,1],\"--\",label =\"r = %.5f m\"%(rn[i+1]) )\n",
    "# plt.plot(marshak_x,marshak_T,label =\"benchmark\")\n",
    "# plt.legend(loc=\"upper right\")\n",
    "# plt.title(\"Material temperature N=%.0f t = %.0f (ns)\"%(N,t_final))\n",
    "plt.show()\n",
    "# RZ solution \n",
    "\n",
    "# plt.plot(marshak_x,marshak_T,label =\"benchmark\")\n",
    "# plt.legend(loc=\"upper right\")\n",
    "\n",
    "# RZ solution \n",
    "# for i in range(0,N):\n",
    "#     plt.plot(z[:], ysolnew2[:,i,0],\"-\",label =\"r = %.5f r\"%(rn[i+1]) )\n",
    "#     plt.plot(z[:], ysolnew2[:,i,1],\"--\",label =\"r = %.5f m\"%(rn[i+1]) )\n",
    "# # plt.plot(marshak_x,marshak_T,label =\"benchmark\")\n",
    "# plt.legend(loc=\"upper right\")\n",
    "# plt.title(\"N=%.0f RZ Solution t = %.1f\"%(N,t_index3))\n",
    "# plt.xlim(0,1)\n",
    "plt.show()\n"
   ]
  },
  {
   "cell_type": "raw",
   "metadata": {},
   "source": [
    "points = [0.25,0.75,1.5,1.75] # r points to compare results with numerical solution\n",
    "rlist = [1,2,3,4,5]\n",
    "sol_col = np.zeros((I+1,4))"
   ]
  },
  {
   "cell_type": "markdown",
   "metadata": {},
   "source": [
    "### Finding solution as a function of r\n",
    "$$T(r,z) = \\left(a_0\\frac{-\\sum_1^N T^4(r_n)\\frac{d}{dr} a_n(r)}{\\frac{3\\kappa}{2}\\frac{1-\\alpha}{1+\\alpha}+\\frac{d}{dr}a_0(r)}\\bigg{|}_{r=r_0} + \\sum_1^N a_n T^4(r_n)\\right)^{1/4}$$"
   ]
  },
  {
   "cell_type": "markdown",
   "metadata": {},
   "source": [
    "### Collocation solution at r points for numerical test"
   ]
  },
  {
   "cell_type": "markdown",
   "metadata": {},
   "source": [
    "### 3D Solution"
   ]
  },
  {
   "cell_type": "code",
   "execution_count": 13,
   "metadata": {},
   "outputs": [
    {
     "data": {
      "text/plain": [
       "<matplotlib.legend.Legend at 0x240a06eb400>"
      ]
     },
     "execution_count": 13,
     "metadata": {},
     "output_type": "execute_result"
    },
    {
     "data": {
      "image/png": "[encoded data removed]",
      "text/plain": [
       "<Figure size 432x288 with 1 Axes>"
      ]
     },
     "metadata": {
      "needs_background": "light"
     },
     "output_type": "display_data"
    }
   ],
   "source": [
    "points = [0,0.125,0.25,0.5]\n",
    "rlist = [1,2,3,4]\n",
    "r_grid = np.linspace(0,R,250)\n",
    "r_index = len(r_grid)\n",
    "sol_col = np.zeros((I+1,4))\n",
    "t0= time.perf_counter()\n",
    "# define functions of r to call the an's, then just sum all of the solution values times the functions instead of creating a \n",
    "# function to do it \n",
    "Tr3D = np.zeros((I+1,r_index))\n",
    "\n",
    "\n",
    "a1 = a_n.an_func(rn[0],N,R)[1,0]\n",
    "for k in range(0,r_index):\n",
    "    kappa = kappa = kappa_func(i,R) # opacity at boundary \n",
    "    r_sum = np.zeros(I+1)\n",
    "    r = r_grid[k]\n",
    "    a0 = a_n.an_func(r,N,R)[0,0]\n",
    "    for j in range(0,N): \n",
    "#         r1 = r_func(j+1)[0]\n",
    "#         r2 = r_func(j+1)[1]\n",
    "        ar1 = a_n.an_func(rn[0],N,R)[1,j+1]\n",
    "        ar0 = a_n.an_func(r,N,R)[0,j+1]\n",
    "        r_sum += -a0*((ysolnew[:,j,0]))*ar1/(3*kappa/2*alph_frac + a1) + ar0*(ysolnew[:,j,0])\n",
    "#     Tr3D[:,k] = (np.abs(r_sum)/a)**0.25*np.sign(r_sum)\n",
    "    Tr3D[:,k] = ((r_sum)/a)**0.25\n",
    "\n",
    "for k in range(0,4):\n",
    "#     kappa = omcp.kappa_func(0,1,r1,r2,rn,zlist,pars)[0] # opacity at boundary \n",
    "    kappa = kappa_func(i,rn[j+1])\n",
    "    r_sum = np.zeros(I+1)\n",
    "    r = points[k]\n",
    "    a0 = a_n.an_func(r,N,R)[0,0]\n",
    "    for j in range(0,N): \n",
    "#         r1 = r_func(j+1)[0]\n",
    "#         r2 = r_func(j+1)[1]\n",
    "        ar1 = a_n.an_func(rn[0],N,R)[1,j+1]\n",
    "        ar0 = a_n.an_func(r,N,R)[0,j+1]\n",
    "        r_sum += -a0*((ysolnew[:,j,0]))*ar1/(3*kappa/2*alph_frac + a1) + ar0*(ysolnew[:,j,0])\n",
    "    sol_col[:,k] = ((r_sum)/a)**0.25\n",
    "\n",
    "\n",
    "for i in range(0,len(points)):\n",
    "#     r_index = np.argmin(abs(r_grid- R*points[i]))\n",
    "    plt.plot(z[:], sol_col[:,i],\"--\",label =r\"N=%.0f, r = %.3f\"%(N,points[i]))\n",
    "#     #Output to CSV\n",
    "    with open('crooked_pipe_t%.0f_r_%.0f'%(t_final,rlist[i]), 'w', ) as myfile: \n",
    "        wr = csv.writer(myfile, quoting=csv.QUOTE_NONE, lineterminator = '\\n',escapechar='')\n",
    "        for j in range(0,I+1):\n",
    "            wr.writerow([z[j],sol_col[j,i]])\n",
    "    \n",
    "plt.legend(loc=\"upper right\")\n"
   ]
  },
  {
   "cell_type": "code",
   "execution_count": 14,
   "metadata": {},
   "outputs": [
    {
     "data": {
      "image/png": "[encoded data removed]",
      "text/plain": [
       "<Figure size 1008x288 with 2 Axes>"
      ]
     },
     "metadata": {
      "needs_background": "light"
     },
     "output_type": "display_data"
    },
    {
     "name": "stdout",
     "output_type": "stream",
     "text": [
      "6.084398099999987\n"
     ]
    }
   ],
   "source": [
    "plt.figure(figsize=(14,4))\n",
    "plt.pcolormesh(z,r_grid,np.transpose(Tr3D))\n",
    "plt.colorbar()\n",
    "plt.savefig(\"t_%.1f(ns)_N_%.0f.jpg\"%(t_final,N))\n",
    "plt.title(\"t = %.2f(ns) N = %.0f\"%(t_final,N))\n",
    "plt.show()\n",
    "t1 = time.perf_counter()-t0\n",
    "print(t1)"
   ]
  },
  {
   "cell_type": "code",
   "execution_count": 15,
   "metadata": {},
   "outputs": [],
   "source": [
    "# zslice = np.argmin(abs(z-.0))\n",
    "# sol_3D_rslice = np.zeros(r_index)\n",
    "# for i in range(0,25):\n",
    "#         sol_3D_rslice[i] = sol_3D_N[zslice,i] \n",
    "\n",
    "# plt.plot(r_grid,sol_3D_rslice)\n",
    "# # plt.savefig(\"zslice_z_%.2f_N_%.0f_alpha_%.1f_.jpg\"%(.05,N,alpha))\n",
    "# # print(sol_3D_N[zslice,:])"
   ]
  },
  {
   "cell_type": "markdown",
   "metadata": {},
   "source": [
    "### RHS function with fourth order difference"
   ]
  },
  {
   "cell_type": "code",
   "execution_count": 16,
   "metadata": {},
   "outputs": [],
   "source": [
    "# #define rhs to solve ODE on each interval from 0 to L \n",
    "# vv = np.zeros(N*(I+1)*2)\n",
    "# # v = np.reshape(np.copy(vv),((I+1),N,2))**4\n",
    "# def rhs(t, vv):\n",
    "#     v = np.reshape(np.copy(vv),((I+1),N,2))\n",
    "#     rhs = np.zeros((I+1,N,2))\n",
    "#     idz2 = (1/dz**2)\n",
    "#     for j in range(0,N):\n",
    "#         for i in range(0,1):\n",
    "#             r1 = r_func(i)[0]\n",
    "#             r2 = r_func(i)[1]\n",
    "#             kappa = omcp.kappa_func(i,j+1,r1,r2,zlist,rn,kappa_thin,kappa_thick,kavg,cv_thin,cv_thick)[0]\n",
    "#             cv = omcp.kappa_func(i,j+1,r1,r2,zlist,rn,kappa_thin,kappa_thick,kavg,cv_thin,cv_thick)[1]\n",
    "#             omega = zone_select(i,j)\n",
    "#             dotproduct = np.dot(omega,v[i,:,0])\n",
    "#             Tb = a*0.3**4\n",
    "#             cc2 = (3*kappa*dz)/(2)\n",
    "#             rhs[i,j,0] = (c/(3*kappa*cv))*(dotproduct + idz2*((v[1,j,0]-v[0,j,0])+cc2*(-.5*(3*v[0,j,0]-v[1,j,0])+Tb)))+(a*v[i,j,1]**4-v[i,j,0])\n",
    "#             rhs[i,j,1]  = -(c*kappa/cv)*(a*v[i,j,1]**4-v[i,j,0])\n",
    "#         for i in range(1,2):\n",
    "#             r1 = r_func(i)[0]\n",
    "#             r2 = r_func(i)[1]\n",
    "#             kappa = omcp.kappa_func(i,j+1,r1,r2,zlist,rn,kappa_thin,kappa_thick,kavg,cv_thin,cv_thick)[0]\n",
    "#             cv = omcp.kappa_func(i,j+1,r1,r2,zlist,rn,kappa_thin,kappa_thick,kavg,cv_thin,cv_thick)[1]\n",
    "#             omega = zone_select(i,j)\n",
    "#             dotproduct = np.dot(omega,v[i,:,0])\n",
    "#             rhs[i,j,0] = (c/(3*kappa*cv))*((dotproduct)+(1/12)*idz2*(-v[i+2,j,0]+16*v[i+1,j,0]-30*v[i,j,0]+16*v[i-1,j,0]-v[i-1,j,0])+(a*v[i,j,1]**4-v[i,j,0])) \n",
    "#             rhs[i,j,1]  = -(c*kappa/cv)*(a*v[i,j,1]**4-v[i,j,0])\n",
    "#         for i in range(I-1,I):\n",
    "#             r1 = r_func(i)[0]\n",
    "#             r2 = r_func(i)[1]\n",
    "#             kappa = omcp.kappa_func(i,j+1,r1,r2,zlist,rn,kappa_thin,kappa_thick,kavg,cv_thin,cv_thick)[0]\n",
    "#             cv = omcp.kappa_func(i,j+1,r1,r2,zlist,rn,kappa_thin,kappa_thick,kavg,cv_thin,cv_thick)[1]\n",
    "#             omega = zone_select(i,j)\n",
    "#             dotproduct = np.dot(omega,v[i,:,0])\n",
    "#             rhs[i,j,0] = (c/(3*kappa*cv))*((dotproduct)+(1/12)*idz2*(-v[i+1,j,0]+16*v[i+1,j,0]-30*v[i,j,0]+16*v[i-1,j,0]-v[i-2,j,0])+(a*v[i,j,1]**4-v[i,j,0]))\n",
    "#             rhs[i,j,1]  = -(c*kappa/cv)*(a*v[i,j,1]**4-v[i,j,0])\n",
    "#         for i in range(2,I-1):\n",
    "#             r1 = r_func(i)[0]\n",
    "#             r2 = r_func(i)[1]\n",
    "#             kappa = omcp.kappa_func(i,j+1,r1,r2,zlist,rn,kappa_thin,kappa_thick,kavg,cv_thin,cv_thick)[0]\n",
    "#             cv = omcp.kappa_func(i,j+1,r1,r2,zlist,rn,kappa_thin,kappa_thick,kavg,cv_thin,cv_thick)[1]\n",
    "#             omega = zone_select(i,j)\n",
    "#             dotproduct = np.dot(omega,v[i,:,0])\n",
    "#             rhs[i,j,0] = (c/(3*kappa*cv))*((dotproduct)+(1/12)*idz2*(-v[i+2,j,0]+16*v[i+1,j,0]-30*v[i,j,0]+16*v[i-1,j,0]-v[i-2,j,0])+(a*v[i,j,1]**4-v[i,j,0]))\n",
    "#             rhs[i,j,1]  = -(c*kappa/cv)*(a*v[i,j,1]**4-v[i,j,0])\n",
    "# #         for i in range(I-1,I):\n",
    "# #             r1 = r_func(i)[0]\n",
    "# #             r2 = r_func(i)[1]\n",
    "# #             kappa = omcp.kappa_func(i,j+1,r1,r2,zlist,rn,kappa_thin,kappa_thick,kavg,cv_thin,cv_thick)[0]\n",
    "# #             cv = omcp.kappa_func(i,j+1,r1,r2,zlist,rn,kappa_thin,kappa_thick,kavg,cv_thin,cv_thick)[1]\n",
    "# #             omega = zone_select(i,j)\n",
    "# #             dotproduct = np.dot(omega,v[i,:,0])\n",
    "# #             Tb = a*0.3**4\n",
    "# #             cc2 = (3*kappa*dz)/(2)\n",
    "# #             rhs[i,j,0] = (c/(3*kappa*cv))*(dotproduct + idz2*((v[1,j,0]-v[0,j,0])+cc2*(-.5*(3*v[0,j,0]-v[1,j,0]))))+(a*v[i,j,1]**4-v[i,j,0])\n",
    "# #             rhs[i,j,1]  = -(c*kappa/cv)*(a*v[i,j,1]**4-v[i,j,0])\n",
    "                \n",
    "#     return np.reshape(rhs,(N*(I+1)*2))"
   ]
  },
  {
   "cell_type": "code",
   "execution_count": 17,
   "metadata": {},
   "outputs": [],
   "source": [
    "# z1 = 2.5\n",
    "# z2 = 3.0\n",
    "# z3 = 4.0\n",
    "# z4 = 4.5\n",
    "# i=0        \n",
    "# for i in range(0,I+1):\n",
    "#     if i*dz>= z1:\n",
    "#         z_index_1 = i \n",
    "#         break\n",
    "# i=0\n",
    "# for i in range(0,I+1):\n",
    "#     if i*dz>= z2:\n",
    "#         z_index_2 = i \n",
    "#         break\n",
    "# i=0\n",
    "# for i in range(0,I+1):\n",
    "#     if i*dz>= z3:\n",
    "#         z_index_3 = i \n",
    "#         break \n",
    "# i=0\n",
    "# for i in range(0,I+1):\n",
    "#     if i*dz>= z4:\n",
    "#         z_index_4 = i \n",
    "#         break\n",
    "# i=0\n",
    "# zlist = [dz,z_index_1,z_index_2,z_index_3,z_index_4]\n",
    "# print(zlist)"
   ]
  },
  {
   "cell_type": "code",
   "execution_count": 18,
   "metadata": {},
   "outputs": [],
   "source": [
    "# z1 = 2.5\n",
    "# z2 = 3.0\n",
    "# z3 = 4.0\n",
    "# z4 = 4.5\n",
    "# i=0        \n",
    "# for i in range(0,I+1):\n",
    "#     if i*dz>= z1:\n",
    "#         z_index_1 = i \n",
    "#         break\n",
    "# i=0\n",
    "# for i in range(0,I+1):\n",
    "#     if i*dz>= z2:\n",
    "#         z_index_2 = i \n",
    "#         break\n",
    "# i=0\n",
    "# for i in range(0,I+1):\n",
    "#     if i*dz>= z3:\n",
    "#         z_index_3 = i \n",
    "#         break \n",
    "# i=0\n",
    "# for i in range(0,I+1):\n",
    "#     if i*dz>= z4:\n",
    "#         z_index_4 = i \n",
    "#         break\n",
    "# i=0\n",
    "# zlist = [dz,z_index_1,z_index_2,z_index_3,z_index_4]\n",
    "# print(zlist)"
   ]
  },
  {
   "cell_type": "code",
   "execution_count": null,
   "metadata": {},
   "outputs": [],
   "source": []
  },
  {
   "cell_type": "code",
   "execution_count": null,
   "metadata": {},
   "outputs": [],
   "source": []
  },
  {
   "cell_type": "code",
   "execution_count": null,
   "metadata": {},
   "outputs": [],
   "source": []
  },
  {
   "cell_type": "code",
   "execution_count": null,
   "metadata": {},
   "outputs": [],
   "source": []
  }
 ],
 "metadata": {
  "kernelspec": {
   "display_name": "Python 3",
   "language": "python",
   "name": "python3"
  },
  "language_info": {
   "codemirror_mode": {
    "name": "ipython",
    "version": 3
   },
   "file_extension": ".py",
   "mimetype": "text/x-python",
   "name": "python",
   "nbconvert_exporter": "python",
   "pygments_lexer": "ipython3",
   "version": "3.7.3"
  }
 },
 "nbformat": 4,
 "nbformat_minor": 2
}
