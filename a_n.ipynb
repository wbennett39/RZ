{
 "cells": [
  {
   "cell_type": "markdown",
   "metadata": {},
   "source": [
    "### Finding Lagrange coefficients \n",
    "$$\\hat{\\theta}(r)=\\sum_0^N a_n \\theta(r_n)$$\n",
    "$$r_n=\\sqrt{\\frac{R^2}{2}(x_n+1)},$$\n",
    "$$x_n=cos\\left(\\frac{2\\pi}{2N+1}n\\right)$$,\n",
    "$$a_n=\\prod^N_{\\frac{k=0}{k\\neq j}}\\frac{2\\frac{r^2}{R^2}-1-x_k}{x_j-x_k}$$\n",
    "$$ \\frac{d a_j}{dr} = \\frac{4r}{R^2}\\sum^N_{\\frac{i=0}{i\\neq j}}\\frac{1}{x_j-x_i} \\prod^N_{\\frac{m=0}{m\\neq j\\neq i}} \\frac{\\frac{2r^2}{R^2}-1-x_m}{x_j-x_m}$$ \n",
    "\n",
    "$$\\frac{d^2a_j}{dr^2} = \\frac{4}{R^2} \\sum^N_{\\frac{i=0}{i\\neq j}}\\frac{1}{x_j-x_i} \\prod^N_{\\frac{m=0}{m\\neq j\\neq i}} \\frac{\\frac{2r^2}{R^2}-1-x_m}{x_j-x_m} + \\frac{16r^2}{R^4} \\sum^N_{\\frac{i=0}{i\\neq j}}\\frac{1}{x_j-x_i}\\left[\\sum^N_{\\frac{m=0}{m\\neq i \\neq j}}\\left(\\frac{1}{x_j-x_m}\\prod^N_{\\frac{l=0}{l \\neq i,j,m}}\\frac{\\frac{2r^2}{R^2}-1-x_l}{x_j-x_l}\\right)\\right] $$\n",
    "For $n=0,1,2,3... N$\n"
   ]
  },
  {
   "cell_type": "code",
   "execution_count": 4,
   "metadata": {},
   "outputs": [],
   "source": [
    "import numpy as np\n",
    "import matplotlib.pyplot as plt\n",
    "import math\n",
    "from scipy import interpolate\n",
    "from scipy import integrate\n",
    "import time\n",
    "import numpy as np\n",
    "import matplotlib\n",
    "import matplotlib.pyplot as plt\n",
    "import csv\n",
    "from math import sqrt\n",
    "import csv\n",
    "from math import cos,pi\n",
    "import import_ipynb"
   ]
  },
  {
   "cell_type": "code",
   "execution_count": 5,
   "metadata": {},
   "outputs": [
    {
     "name": "stdout",
     "output_type": "stream",
     "text": [
      "a_n module loaded\n"
     ]
    }
   ],
   "source": [
    "print(\"a_n module loaded\")"
   ]
  },
  {
   "cell_type": "code",
   "execution_count": 6,
   "metadata": {},
   "outputs": [
    {
     "data": {
      "text/plain": [
       "array([[-0.14285714,  0.31711893, -0.45825013,  1.28398834],\n",
       "       [ 0.        ,  0.        ,  0.        ,  0.        ],\n",
       "       [ 1.71428571, -3.76865501,  5.13872157, -3.08435227]])"
      ]
     },
     "execution_count": 6,
     "metadata": {},
     "output_type": "execute_result"
    }
   ],
   "source": [
    "# define a function that returns a_n's\n",
    "#collocation points\n",
    "def f(r,R):\n",
    "    return (2*r**2)/(R**2)-1\n",
    "def fprime(r,R):\n",
    "    return 4*r/R**2\n",
    "def f2prime(r,R):\n",
    "    return 4/R**2\n",
    "def xn_func(i,N):\n",
    "    return cos(2*pi*i/(2*N+1))\n",
    "\n",
    "def pifunc(i,j,r,N,R):\n",
    "    l_pi = 1 \n",
    "    for m in range(0,N+1):\n",
    "        if m!=j and m !=i:\n",
    "            l_pi = l_pi*(f(r,R)-xn_func(m,N))/(xn_func(j,N)-xn_func(m,N))\n",
    "    return l_pi\n",
    "\n",
    "def pifunc_l(i,j,m,r,N,R):\n",
    "    l_pi = 1\n",
    "    for l in range(0,N+1):\n",
    "        if l!=j and l !=i and l!=m:\n",
    "            l_pi = l_pi*(f(r,R)-xn_func(l,N))/(xn_func(j,N)-xn_func(l,N))\n",
    "    return l_pi\n",
    "\n",
    "def m_sumfunc(i,j,r,N,R):\n",
    "    m_sum = 0 \n",
    "    for m in range(0,N+1):\n",
    "        if m != j and m != i:\n",
    "            m_sum += 1/(xn_func(j,N)-xn_func(m,N))*pifunc_l(i,j,m,r,N,R)\n",
    "    return m_sum\n",
    "\n",
    "\n",
    "\n",
    "\n",
    "\n",
    "\n",
    "#function to return a_ns and first and second derivatives\n",
    "# an_func(1)[1,3] returns da_3/dr evaluated at r = 1 \n",
    "def an_func(r,N,R):\n",
    "    xn = np.zeros(N+1) # collocation points\n",
    "    rn = np.zeros(N+1)  \n",
    "    an_list = np.ones(N+1)\n",
    "    for i in range(0,N+1):\n",
    "        xn[i] = cos(2*pi*i/(2*N+1))\n",
    "        rn[i] = sqrt(R**2*(xn[i]+1)/2)\n",
    "    an_prime_list = np.zeros(N+1)\n",
    "    an_doubleprime_list = np.zeros(N+1)\n",
    "    #ans\n",
    "\n",
    "   \n",
    "    for j in range(0,N+1):\n",
    "        for i in range(0,N+1):\n",
    "            if i != j:\n",
    "                an_list[j] = an_list[j]*(f(r,R)-xn[i])/(xn[j]-xn[i])\n",
    "   \n",
    "    #first derivative \n",
    "    for j in range(0,N+1):\n",
    "        for i in range(0,N+1):\n",
    "            if i != j:\n",
    "#                 an_prime_list[j] += fprime(r,R)*an_list[j]*1/(f(r,R)-xn[i])\n",
    "                  an_prime_list[j] += fprime(r,R)*1/(xn[j]-xn[i])*pifunc(i,j,r,N,R)\n",
    "\n",
    "    #2nd derivative \n",
    "    for j in range(0,N+1):\n",
    "        for i in range(0,N+1):\n",
    "            if i != j:\n",
    "#                 an_doubleprime_list[j] += an_list[j]*f2prime(r,R)/(f(r,R)-xn[i])*(1-r*fprime(r,R)/(f(r,R)-xn[i]))\n",
    "                an_doubleprime_list[j] += f2prime(r,R)*1/(xn[j]-xn[i])*pifunc(i,j,r,N,R) + (fprime(r,R)**2)*1/(xn[j]-xn[i])*m_sumfunc(i,j,r,N,R)\n",
    "        \n",
    "    \n",
    "    result = np.zeros((3,N+1))\n",
    "    result[0] = an_list.tolist()\n",
    "    result[1] = an_prime_list.tolist()\n",
    "    result[2] = an_doubleprime_list.tolist()\n",
    "    return result\n",
    "an_func(0,3,2)"
   ]
  },
  {
   "cell_type": "markdown",
   "metadata": {},
   "source": []
  },
  {
   "cell_type": "code",
   "execution_count": null,
   "metadata": {},
   "outputs": [],
   "source": []
  }
 ],
 "metadata": {
  "kernelspec": {
   "display_name": "Python 3",
   "language": "python",
   "name": "python3"
  },
  "language_info": {
   "codemirror_mode": {
    "name": "ipython",
    "version": 3
   },
   "file_extension": ".py",
   "mimetype": "text/x-python",
   "name": "python",
   "nbconvert_exporter": "python",
   "pygments_lexer": "ipython3",
   "version": "3.7.3"
  }
 },
 "nbformat": 4,
 "nbformat_minor": 2
}
